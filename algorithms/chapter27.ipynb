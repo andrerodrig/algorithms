{
 "cells": [
  {
   "cell_type": "markdown",
   "metadata": {},
   "source": [
    "27.1-1\n",
    "\n",
    "Suppose that we spawn `p_fib(n - 2)` in line 4 of `p_fib` , rather than calling it\n",
    "as is done in the code. What is the impact on the asymptotic work, span, and\n",
    "parallelism?"
   ]
  },
  {
   "cell_type": "markdown",
   "metadata": {},
   "source": [
    "27.1-2\n",
    "\n",
    "Draw the computation dag that results from executing P-F IB.5/. Assuming that\n",
    "each strand in the computation takes unit time, what are the work, span, and parallelism \n",
    "of the computation? Show how to schedule the dag on 3 processors using greedy scheduling \n",
    "by labeling each strand with the time step in which it is executed."
   ]
  },
  {
   "cell_type": "markdown",
   "metadata": {},
   "source": [
    "27.1-3\n",
    "\n",
    "Prove that a greedy scheduler achieves the following time bound, which is slightly\n",
    "stronger than the bound proven in Theorem 27.1:\n",
    "\n",
    "$$T_p \\leq \\frac{T_1 - T_{\\infty}}{P} + T_{\\infty}$$"
   ]
  },
  {
   "cell_type": "markdown",
   "metadata": {},
   "source": [
    "27.1-4\n",
    "\n",
    "Construct a computation dag for which one execution of a greedy scheduler can\n",
    "take nearly twice the time of another execution of a greedy scheduler on the same\n",
    "number of processors. Describe how the two executions would proceed."
   ]
  },
  {
   "cell_type": "markdown",
   "metadata": {},
   "source": [
    "27.1-5\n",
    "\n",
    "Professor Karan measures her deterministic multithreaded algorithm on 4, 10,\n",
    "and 64 processors of an ideal parallel computer using a greedy scheduler. She\n",
    "claims that the three runs yielded $T_4$ = 80 seconds, $T_10$ = 42 seconds, and\n",
    "$T_{64}$ = 10 seconds. Argue that the professor is either lying or incompetent. (Hint:\n",
    "Use the work law (27.2), the span law (27.3), and inequality (27.5) from Exercise 27.1-3)."
   ]
  },
  {
   "cell_type": "markdown",
   "metadata": {},
   "source": [
    "27.1-6\n",
    "\n",
    "Give a multithreaded algorithm to multiply an $n \\times n$ matrix by an $n$-vector that\n",
    "achieves $\\Theta(n^2 / \\lg n)$ parallelism while maintaining $\\Theta(n^2)$ work."
   ]
  },
  {
   "cell_type": "markdown",
   "metadata": {},
   "source": [
    "27.1-7\n",
    "\n",
    "Consider the following multithreaded pseudocode for transposing an $n \\times n$ matrix `A`\n",
    "in place:\n",
    "\n",
    "```\n",
    "p_transpose(A)\n",
    "\n",
    "n = A.rows\n",
    "parallel for j = 2 to n\n",
    "    parallel for i = 1 to j - 1\n",
    "        exchange a_ij with a_ji\n",
    "return y\n",
    "```\n",
    "\n",
    "Analyze the work, span, and parallelism of this algorithm."
   ]
  },
  {
   "cell_type": "markdown",
   "metadata": {},
   "source": []
  },
  {
   "cell_type": "markdown",
   "metadata": {},
   "source": [
    "27.1-8\n",
    "\n",
    "Suppose that we replace the **parallel for** loop in line 3 of `p_transpose` (see Exercise 27.1-7) \n",
    "with an ordinary for loop. Analyze the work, span, and parallelism of the resulting algorithm"
   ]
  },
  {
   "cell_type": "markdown",
   "metadata": {},
   "source": [
    "27.1-9\n",
    "\n",
    "For how many processors do the two versions of the chess programs run equally\n",
    "fast, assuming that $T_p = T_1 / P + T_{\\infty}$?"
   ]
  },
  {
   "cell_type": "markdown",
   "metadata": {},
   "source": []
  }
 ],
 "metadata": {
  "language_info": {
   "name": "python"
  },
  "orig_nbformat": 4
 },
 "nbformat": 4,
 "nbformat_minor": 2
}
