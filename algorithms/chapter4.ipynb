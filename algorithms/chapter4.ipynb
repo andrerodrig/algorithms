{
 "cells": [
  {
   "cell_type": "markdown",
   "metadata": {},
   "source": [
    "4.1.1\n",
    "\n",
    "---\n",
    "What does `FIND-MAXIMUM-SUBARRAY` return when all elements of `A` are negative?"
   ]
  },
  {
   "cell_type": "markdown",
   "metadata": {},
   "source": [
    "Ans: The algorithm created in [find_max_subarray.py](/algorithms/chapter4/find_max_subarray.py) tries to find the subarray with greater sum, but all numbers are negative. I've defined the `max_value = -1` initially, therefore, none of the subarrays could have a greater sum than the initial value."
   ]
  },
  {
   "cell_type": "markdown",
   "metadata": {},
   "source": [
    "4.1.2\n",
    "\n",
    "---\n",
    "\n",
    "Write pseudocode for the brute-force method of solving the maximum-subarray\n",
    "problem. Your procedure should run in $\\Theta(n^2)$ time."
   ]
  },
  {
   "cell_type": "markdown",
   "metadata": {},
   "source": [
    "Ans: The iterative form of this algorithm is in the file [find_max_subarray.py](/algorithms/chapter4/find_max_subarray.py) in python"
   ]
  },
  {
   "cell_type": "markdown",
   "metadata": {},
   "source": []
  }
 ],
 "metadata": {
  "language_info": {
   "name": "python"
  }
 },
 "nbformat": 4,
 "nbformat_minor": 2
}
