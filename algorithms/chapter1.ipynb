{
 "cells": [
  {
   "cell_type": "code",
   "execution_count": 121,
   "metadata": {},
   "outputs": [],
   "source": [
    "import numpy as np\n",
    "from plotly import express as px\n",
    "import math"
   ]
  },
  {
   "cell_type": "markdown",
   "metadata": {},
   "source": [
    "Number of steps for the algorithms 1 and 2:\n",
    "\n",
    "$Alg_1 = 8 \\cdot n^2$\n",
    "\n",
    "$Alg_2 = 64 \\cdot n \\cdot lg(n)$"
   ]
  },
  {
   "cell_type": "code",
   "execution_count": 3,
   "metadata": {},
   "outputs": [],
   "source": [
    "X = np.array([5, 10, 20, 30, 45, 46, 47, 50, 55, 60, 65, 70])\n",
    "\n",
    "steps1 = 8 * X ** 2\n",
    "steps2 = 64 * X * np.log2(X)"
   ]
  },
  {
   "cell_type": "code",
   "execution_count": 4,
   "metadata": {},
   "outputs": [
    {
     "data": {
      "application/vnd.plotly.v1+json": {
       "config": {
        "plotlyServerURL": "https://plot.ly"
       },
       "data": [
        {
         "hovertemplate": "variable=wide_variable_0<br>x=%{x}<br>value=%{y}<extra></extra>",
         "legendgroup": "wide_variable_0",
         "line": {
          "color": "#636efa",
          "dash": "solid"
         },
         "marker": {
          "symbol": "circle"
         },
         "mode": "lines",
         "name": "wide_variable_0",
         "orientation": "v",
         "showlegend": true,
         "type": "scatter",
         "x": [
          5,
          10,
          20,
          30,
          45,
          46,
          47,
          50,
          55,
          60,
          65,
          70
         ],
         "xaxis": "x",
         "y": [
          200,
          800,
          3200,
          7200,
          16200,
          16928,
          17672,
          20000,
          24200,
          28800,
          33800,
          39200
         ],
         "yaxis": "y"
        },
        {
         "hovertemplate": "variable=wide_variable_1<br>x=%{x}<br>value=%{y}<extra></extra>",
         "legendgroup": "wide_variable_1",
         "line": {
          "color": "#EF553B",
          "dash": "solid"
         },
         "marker": {
          "symbol": "circle"
         },
         "mode": "lines",
         "name": "wide_variable_1",
         "orientation": "v",
         "showlegend": true,
         "type": "scatter",
         "x": [
          5,
          10,
          20,
          30,
          45,
          46,
          47,
          50,
          55,
          60,
          65,
          70
         ],
         "xaxis": "x",
         "y": [
          743.0169903639559,
          2126.033980727912,
          5532.067961455824,
          9421.229943568356,
          15816.536917429463,
          16261.366398631846,
          16708.203265846332,
          18060.339807279117,
          20350.3861916068,
          22682.459887136712,
          25053.05010219837,
          27459.187915913448
         ],
         "yaxis": "y"
        }
       ],
       "layout": {
        "legend": {
         "title": {
          "text": "variable"
         },
         "tracegroupgap": 0
        },
        "margin": {
         "t": 60
        },
        "template": {
         "data": {
          "bar": [
           {
            "error_x": {
             "color": "#2a3f5f"
            },
            "error_y": {
             "color": "#2a3f5f"
            },
            "marker": {
             "line": {
              "color": "#E5ECF6",
              "width": 0.5
             },
             "pattern": {
              "fillmode": "overlay",
              "size": 10,
              "solidity": 0.2
             }
            },
            "type": "bar"
           }
          ],
          "barpolar": [
           {
            "marker": {
             "line": {
              "color": "#E5ECF6",
              "width": 0.5
             },
             "pattern": {
              "fillmode": "overlay",
              "size": 10,
              "solidity": 0.2
             }
            },
            "type": "barpolar"
           }
          ],
          "carpet": [
           {
            "aaxis": {
             "endlinecolor": "#2a3f5f",
             "gridcolor": "white",
             "linecolor": "white",
             "minorgridcolor": "white",
             "startlinecolor": "#2a3f5f"
            },
            "baxis": {
             "endlinecolor": "#2a3f5f",
             "gridcolor": "white",
             "linecolor": "white",
             "minorgridcolor": "white",
             "startlinecolor": "#2a3f5f"
            },
            "type": "carpet"
           }
          ],
          "choropleth": [
           {
            "colorbar": {
             "outlinewidth": 0,
             "ticks": ""
            },
            "type": "choropleth"
           }
          ],
          "contour": [
           {
            "colorbar": {
             "outlinewidth": 0,
             "ticks": ""
            },
            "colorscale": [
             [
              0,
              "#0d0887"
             ],
             [
              0.1111111111111111,
              "#46039f"
             ],
             [
              0.2222222222222222,
              "#7201a8"
             ],
             [
              0.3333333333333333,
              "#9c179e"
             ],
             [
              0.4444444444444444,
              "#bd3786"
             ],
             [
              0.5555555555555556,
              "#d8576b"
             ],
             [
              0.6666666666666666,
              "#ed7953"
             ],
             [
              0.7777777777777778,
              "#fb9f3a"
             ],
             [
              0.8888888888888888,
              "#fdca26"
             ],
             [
              1,
              "#f0f921"
             ]
            ],
            "type": "contour"
           }
          ],
          "contourcarpet": [
           {
            "colorbar": {
             "outlinewidth": 0,
             "ticks": ""
            },
            "type": "contourcarpet"
           }
          ],
          "heatmap": [
           {
            "colorbar": {
             "outlinewidth": 0,
             "ticks": ""
            },
            "colorscale": [
             [
              0,
              "#0d0887"
             ],
             [
              0.1111111111111111,
              "#46039f"
             ],
             [
              0.2222222222222222,
              "#7201a8"
             ],
             [
              0.3333333333333333,
              "#9c179e"
             ],
             [
              0.4444444444444444,
              "#bd3786"
             ],
             [
              0.5555555555555556,
              "#d8576b"
             ],
             [
              0.6666666666666666,
              "#ed7953"
             ],
             [
              0.7777777777777778,
              "#fb9f3a"
             ],
             [
              0.8888888888888888,
              "#fdca26"
             ],
             [
              1,
              "#f0f921"
             ]
            ],
            "type": "heatmap"
           }
          ],
          "heatmapgl": [
           {
            "colorbar": {
             "outlinewidth": 0,
             "ticks": ""
            },
            "colorscale": [
             [
              0,
              "#0d0887"
             ],
             [
              0.1111111111111111,
              "#46039f"
             ],
             [
              0.2222222222222222,
              "#7201a8"
             ],
             [
              0.3333333333333333,
              "#9c179e"
             ],
             [
              0.4444444444444444,
              "#bd3786"
             ],
             [
              0.5555555555555556,
              "#d8576b"
             ],
             [
              0.6666666666666666,
              "#ed7953"
             ],
             [
              0.7777777777777778,
              "#fb9f3a"
             ],
             [
              0.8888888888888888,
              "#fdca26"
             ],
             [
              1,
              "#f0f921"
             ]
            ],
            "type": "heatmapgl"
           }
          ],
          "histogram": [
           {
            "marker": {
             "pattern": {
              "fillmode": "overlay",
              "size": 10,
              "solidity": 0.2
             }
            },
            "type": "histogram"
           }
          ],
          "histogram2d": [
           {
            "colorbar": {
             "outlinewidth": 0,
             "ticks": ""
            },
            "colorscale": [
             [
              0,
              "#0d0887"
             ],
             [
              0.1111111111111111,
              "#46039f"
             ],
             [
              0.2222222222222222,
              "#7201a8"
             ],
             [
              0.3333333333333333,
              "#9c179e"
             ],
             [
              0.4444444444444444,
              "#bd3786"
             ],
             [
              0.5555555555555556,
              "#d8576b"
             ],
             [
              0.6666666666666666,
              "#ed7953"
             ],
             [
              0.7777777777777778,
              "#fb9f3a"
             ],
             [
              0.8888888888888888,
              "#fdca26"
             ],
             [
              1,
              "#f0f921"
             ]
            ],
            "type": "histogram2d"
           }
          ],
          "histogram2dcontour": [
           {
            "colorbar": {
             "outlinewidth": 0,
             "ticks": ""
            },
            "colorscale": [
             [
              0,
              "#0d0887"
             ],
             [
              0.1111111111111111,
              "#46039f"
             ],
             [
              0.2222222222222222,
              "#7201a8"
             ],
             [
              0.3333333333333333,
              "#9c179e"
             ],
             [
              0.4444444444444444,
              "#bd3786"
             ],
             [
              0.5555555555555556,
              "#d8576b"
             ],
             [
              0.6666666666666666,
              "#ed7953"
             ],
             [
              0.7777777777777778,
              "#fb9f3a"
             ],
             [
              0.8888888888888888,
              "#fdca26"
             ],
             [
              1,
              "#f0f921"
             ]
            ],
            "type": "histogram2dcontour"
           }
          ],
          "mesh3d": [
           {
            "colorbar": {
             "outlinewidth": 0,
             "ticks": ""
            },
            "type": "mesh3d"
           }
          ],
          "parcoords": [
           {
            "line": {
             "colorbar": {
              "outlinewidth": 0,
              "ticks": ""
             }
            },
            "type": "parcoords"
           }
          ],
          "pie": [
           {
            "automargin": true,
            "type": "pie"
           }
          ],
          "scatter": [
           {
            "fillpattern": {
             "fillmode": "overlay",
             "size": 10,
             "solidity": 0.2
            },
            "type": "scatter"
           }
          ],
          "scatter3d": [
           {
            "line": {
             "colorbar": {
              "outlinewidth": 0,
              "ticks": ""
             }
            },
            "marker": {
             "colorbar": {
              "outlinewidth": 0,
              "ticks": ""
             }
            },
            "type": "scatter3d"
           }
          ],
          "scattercarpet": [
           {
            "marker": {
             "colorbar": {
              "outlinewidth": 0,
              "ticks": ""
             }
            },
            "type": "scattercarpet"
           }
          ],
          "scattergeo": [
           {
            "marker": {
             "colorbar": {
              "outlinewidth": 0,
              "ticks": ""
             }
            },
            "type": "scattergeo"
           }
          ],
          "scattergl": [
           {
            "marker": {
             "colorbar": {
              "outlinewidth": 0,
              "ticks": ""
             }
            },
            "type": "scattergl"
           }
          ],
          "scattermapbox": [
           {
            "marker": {
             "colorbar": {
              "outlinewidth": 0,
              "ticks": ""
             }
            },
            "type": "scattermapbox"
           }
          ],
          "scatterpolar": [
           {
            "marker": {
             "colorbar": {
              "outlinewidth": 0,
              "ticks": ""
             }
            },
            "type": "scatterpolar"
           }
          ],
          "scatterpolargl": [
           {
            "marker": {
             "colorbar": {
              "outlinewidth": 0,
              "ticks": ""
             }
            },
            "type": "scatterpolargl"
           }
          ],
          "scatterternary": [
           {
            "marker": {
             "colorbar": {
              "outlinewidth": 0,
              "ticks": ""
             }
            },
            "type": "scatterternary"
           }
          ],
          "surface": [
           {
            "colorbar": {
             "outlinewidth": 0,
             "ticks": ""
            },
            "colorscale": [
             [
              0,
              "#0d0887"
             ],
             [
              0.1111111111111111,
              "#46039f"
             ],
             [
              0.2222222222222222,
              "#7201a8"
             ],
             [
              0.3333333333333333,
              "#9c179e"
             ],
             [
              0.4444444444444444,
              "#bd3786"
             ],
             [
              0.5555555555555556,
              "#d8576b"
             ],
             [
              0.6666666666666666,
              "#ed7953"
             ],
             [
              0.7777777777777778,
              "#fb9f3a"
             ],
             [
              0.8888888888888888,
              "#fdca26"
             ],
             [
              1,
              "#f0f921"
             ]
            ],
            "type": "surface"
           }
          ],
          "table": [
           {
            "cells": {
             "fill": {
              "color": "#EBF0F8"
             },
             "line": {
              "color": "white"
             }
            },
            "header": {
             "fill": {
              "color": "#C8D4E3"
             },
             "line": {
              "color": "white"
             }
            },
            "type": "table"
           }
          ]
         },
         "layout": {
          "annotationdefaults": {
           "arrowcolor": "#2a3f5f",
           "arrowhead": 0,
           "arrowwidth": 1
          },
          "autotypenumbers": "strict",
          "coloraxis": {
           "colorbar": {
            "outlinewidth": 0,
            "ticks": ""
           }
          },
          "colorscale": {
           "diverging": [
            [
             0,
             "#8e0152"
            ],
            [
             0.1,
             "#c51b7d"
            ],
            [
             0.2,
             "#de77ae"
            ],
            [
             0.3,
             "#f1b6da"
            ],
            [
             0.4,
             "#fde0ef"
            ],
            [
             0.5,
             "#f7f7f7"
            ],
            [
             0.6,
             "#e6f5d0"
            ],
            [
             0.7,
             "#b8e186"
            ],
            [
             0.8,
             "#7fbc41"
            ],
            [
             0.9,
             "#4d9221"
            ],
            [
             1,
             "#276419"
            ]
           ],
           "sequential": [
            [
             0,
             "#0d0887"
            ],
            [
             0.1111111111111111,
             "#46039f"
            ],
            [
             0.2222222222222222,
             "#7201a8"
            ],
            [
             0.3333333333333333,
             "#9c179e"
            ],
            [
             0.4444444444444444,
             "#bd3786"
            ],
            [
             0.5555555555555556,
             "#d8576b"
            ],
            [
             0.6666666666666666,
             "#ed7953"
            ],
            [
             0.7777777777777778,
             "#fb9f3a"
            ],
            [
             0.8888888888888888,
             "#fdca26"
            ],
            [
             1,
             "#f0f921"
            ]
           ],
           "sequentialminus": [
            [
             0,
             "#0d0887"
            ],
            [
             0.1111111111111111,
             "#46039f"
            ],
            [
             0.2222222222222222,
             "#7201a8"
            ],
            [
             0.3333333333333333,
             "#9c179e"
            ],
            [
             0.4444444444444444,
             "#bd3786"
            ],
            [
             0.5555555555555556,
             "#d8576b"
            ],
            [
             0.6666666666666666,
             "#ed7953"
            ],
            [
             0.7777777777777778,
             "#fb9f3a"
            ],
            [
             0.8888888888888888,
             "#fdca26"
            ],
            [
             1,
             "#f0f921"
            ]
           ]
          },
          "colorway": [
           "#636efa",
           "#EF553B",
           "#00cc96",
           "#ab63fa",
           "#FFA15A",
           "#19d3f3",
           "#FF6692",
           "#B6E880",
           "#FF97FF",
           "#FECB52"
          ],
          "font": {
           "color": "#2a3f5f"
          },
          "geo": {
           "bgcolor": "white",
           "lakecolor": "white",
           "landcolor": "#E5ECF6",
           "showlakes": true,
           "showland": true,
           "subunitcolor": "white"
          },
          "hoverlabel": {
           "align": "left"
          },
          "hovermode": "closest",
          "mapbox": {
           "style": "light"
          },
          "paper_bgcolor": "white",
          "plot_bgcolor": "#E5ECF6",
          "polar": {
           "angularaxis": {
            "gridcolor": "white",
            "linecolor": "white",
            "ticks": ""
           },
           "bgcolor": "#E5ECF6",
           "radialaxis": {
            "gridcolor": "white",
            "linecolor": "white",
            "ticks": ""
           }
          },
          "scene": {
           "xaxis": {
            "backgroundcolor": "#E5ECF6",
            "gridcolor": "white",
            "gridwidth": 2,
            "linecolor": "white",
            "showbackground": true,
            "ticks": "",
            "zerolinecolor": "white"
           },
           "yaxis": {
            "backgroundcolor": "#E5ECF6",
            "gridcolor": "white",
            "gridwidth": 2,
            "linecolor": "white",
            "showbackground": true,
            "ticks": "",
            "zerolinecolor": "white"
           },
           "zaxis": {
            "backgroundcolor": "#E5ECF6",
            "gridcolor": "white",
            "gridwidth": 2,
            "linecolor": "white",
            "showbackground": true,
            "ticks": "",
            "zerolinecolor": "white"
           }
          },
          "shapedefaults": {
           "line": {
            "color": "#2a3f5f"
           }
          },
          "ternary": {
           "aaxis": {
            "gridcolor": "white",
            "linecolor": "white",
            "ticks": ""
           },
           "baxis": {
            "gridcolor": "white",
            "linecolor": "white",
            "ticks": ""
           },
           "bgcolor": "#E5ECF6",
           "caxis": {
            "gridcolor": "white",
            "linecolor": "white",
            "ticks": ""
           }
          },
          "title": {
           "x": 0.05
          },
          "xaxis": {
           "automargin": true,
           "gridcolor": "white",
           "linecolor": "white",
           "ticks": "",
           "title": {
            "standoff": 15
           },
           "zerolinecolor": "white",
           "zerolinewidth": 2
          },
          "yaxis": {
           "automargin": true,
           "gridcolor": "white",
           "linecolor": "white",
           "ticks": "",
           "title": {
            "standoff": 15
           },
           "zerolinecolor": "white",
           "zerolinewidth": 2
          }
         }
        },
        "xaxis": {
         "anchor": "y",
         "domain": [
          0,
          1
         ],
         "title": {
          "text": "x"
         }
        },
        "yaxis": {
         "anchor": "x",
         "domain": [
          0,
          1
         ],
         "title": {
          "text": "value"
         }
        }
       }
      }
     },
     "metadata": {},
     "output_type": "display_data"
    }
   ],
   "source": [
    "px.line(X, x=X, y=[steps1, steps2])"
   ]
  },
  {
   "cell_type": "code",
   "execution_count": 5,
   "metadata": {},
   "outputs": [
    {
     "data": {
      "text/plain": [
       "array([  200,   800,  3200,  7200, 16200, 16928, 17672, 20000, 24200,\n",
       "       28800, 33800, 39200])"
      ]
     },
     "execution_count": 5,
     "metadata": {},
     "output_type": "execute_result"
    }
   ],
   "source": [
    "steps1"
   ]
  },
  {
   "cell_type": "code",
   "execution_count": 6,
   "metadata": {},
   "outputs": [
    {
     "data": {
      "text/plain": [
       "array([  743.01699036,  2126.03398073,  5532.06796146,  9421.22994357,\n",
       "       15816.53691743, 16261.36639863, 16708.20326585, 18060.33980728,\n",
       "       20350.38619161, 22682.45988714, 25053.0501022 , 27459.18791591])"
      ]
     },
     "execution_count": 6,
     "metadata": {},
     "output_type": "execute_result"
    }
   ],
   "source": [
    "steps2"
   ]
  },
  {
   "cell_type": "markdown",
   "metadata": {},
   "source": [
    "Alg1 is more eficient than Alg2 for a $\\mathbf{X}$ with length 45"
   ]
  },
  {
   "cell_type": "markdown",
   "metadata": {},
   "source": [
    "---"
   ]
  },
  {
   "cell_type": "markdown",
   "metadata": {},
   "source": [
    "Number of steps for the algorithms 3 and 4:\n",
    "\n",
    "$Alg_3 = 600 \\cdot n^2$\n",
    "\n",
    "$Alg_4 = 2^n$"
   ]
  },
  {
   "cell_type": "code",
   "execution_count": 7,
   "metadata": {},
   "outputs": [],
   "source": [
    "X = np.array([5, 10, 11, 12, 13, 15, 17, 18, 20, 21])\n",
    "\n",
    "steps3 = 600 * X ** 2\n",
    "steps4 = 2 ** X"
   ]
  },
  {
   "cell_type": "code",
   "execution_count": 8,
   "metadata": {},
   "outputs": [
    {
     "data": {
      "application/vnd.plotly.v1+json": {
       "config": {
        "plotlyServerURL": "https://plot.ly"
       },
       "data": [
        {
         "hovertemplate": "variable=wide_variable_0<br>x=%{x}<br>value=%{y}<extra></extra>",
         "legendgroup": "wide_variable_0",
         "line": {
          "color": "#636efa",
          "dash": "solid"
         },
         "marker": {
          "symbol": "circle"
         },
         "mode": "lines",
         "name": "wide_variable_0",
         "orientation": "v",
         "showlegend": true,
         "type": "scatter",
         "x": [
          5,
          10,
          11,
          12,
          13,
          15,
          17,
          18,
          20,
          21
         ],
         "xaxis": "x",
         "y": [
          15000,
          60000,
          72600,
          86400,
          101400,
          135000,
          173400,
          194400,
          240000,
          264600
         ],
         "yaxis": "y"
        },
        {
         "hovertemplate": "variable=wide_variable_1<br>x=%{x}<br>value=%{y}<extra></extra>",
         "legendgroup": "wide_variable_1",
         "line": {
          "color": "#EF553B",
          "dash": "solid"
         },
         "marker": {
          "symbol": "circle"
         },
         "mode": "lines",
         "name": "wide_variable_1",
         "orientation": "v",
         "showlegend": true,
         "type": "scatter",
         "x": [
          5,
          10,
          11,
          12,
          13,
          15,
          17,
          18,
          20,
          21
         ],
         "xaxis": "x",
         "y": [
          32,
          1024,
          2048,
          4096,
          8192,
          32768,
          131072,
          262144,
          1048576,
          2097152
         ],
         "yaxis": "y"
        }
       ],
       "layout": {
        "legend": {
         "title": {
          "text": "variable"
         },
         "tracegroupgap": 0
        },
        "margin": {
         "t": 60
        },
        "template": {
         "data": {
          "bar": [
           {
            "error_x": {
             "color": "#2a3f5f"
            },
            "error_y": {
             "color": "#2a3f5f"
            },
            "marker": {
             "line": {
              "color": "#E5ECF6",
              "width": 0.5
             },
             "pattern": {
              "fillmode": "overlay",
              "size": 10,
              "solidity": 0.2
             }
            },
            "type": "bar"
           }
          ],
          "barpolar": [
           {
            "marker": {
             "line": {
              "color": "#E5ECF6",
              "width": 0.5
             },
             "pattern": {
              "fillmode": "overlay",
              "size": 10,
              "solidity": 0.2
             }
            },
            "type": "barpolar"
           }
          ],
          "carpet": [
           {
            "aaxis": {
             "endlinecolor": "#2a3f5f",
             "gridcolor": "white",
             "linecolor": "white",
             "minorgridcolor": "white",
             "startlinecolor": "#2a3f5f"
            },
            "baxis": {
             "endlinecolor": "#2a3f5f",
             "gridcolor": "white",
             "linecolor": "white",
             "minorgridcolor": "white",
             "startlinecolor": "#2a3f5f"
            },
            "type": "carpet"
           }
          ],
          "choropleth": [
           {
            "colorbar": {
             "outlinewidth": 0,
             "ticks": ""
            },
            "type": "choropleth"
           }
          ],
          "contour": [
           {
            "colorbar": {
             "outlinewidth": 0,
             "ticks": ""
            },
            "colorscale": [
             [
              0,
              "#0d0887"
             ],
             [
              0.1111111111111111,
              "#46039f"
             ],
             [
              0.2222222222222222,
              "#7201a8"
             ],
             [
              0.3333333333333333,
              "#9c179e"
             ],
             [
              0.4444444444444444,
              "#bd3786"
             ],
             [
              0.5555555555555556,
              "#d8576b"
             ],
             [
              0.6666666666666666,
              "#ed7953"
             ],
             [
              0.7777777777777778,
              "#fb9f3a"
             ],
             [
              0.8888888888888888,
              "#fdca26"
             ],
             [
              1,
              "#f0f921"
             ]
            ],
            "type": "contour"
           }
          ],
          "contourcarpet": [
           {
            "colorbar": {
             "outlinewidth": 0,
             "ticks": ""
            },
            "type": "contourcarpet"
           }
          ],
          "heatmap": [
           {
            "colorbar": {
             "outlinewidth": 0,
             "ticks": ""
            },
            "colorscale": [
             [
              0,
              "#0d0887"
             ],
             [
              0.1111111111111111,
              "#46039f"
             ],
             [
              0.2222222222222222,
              "#7201a8"
             ],
             [
              0.3333333333333333,
              "#9c179e"
             ],
             [
              0.4444444444444444,
              "#bd3786"
             ],
             [
              0.5555555555555556,
              "#d8576b"
             ],
             [
              0.6666666666666666,
              "#ed7953"
             ],
             [
              0.7777777777777778,
              "#fb9f3a"
             ],
             [
              0.8888888888888888,
              "#fdca26"
             ],
             [
              1,
              "#f0f921"
             ]
            ],
            "type": "heatmap"
           }
          ],
          "heatmapgl": [
           {
            "colorbar": {
             "outlinewidth": 0,
             "ticks": ""
            },
            "colorscale": [
             [
              0,
              "#0d0887"
             ],
             [
              0.1111111111111111,
              "#46039f"
             ],
             [
              0.2222222222222222,
              "#7201a8"
             ],
             [
              0.3333333333333333,
              "#9c179e"
             ],
             [
              0.4444444444444444,
              "#bd3786"
             ],
             [
              0.5555555555555556,
              "#d8576b"
             ],
             [
              0.6666666666666666,
              "#ed7953"
             ],
             [
              0.7777777777777778,
              "#fb9f3a"
             ],
             [
              0.8888888888888888,
              "#fdca26"
             ],
             [
              1,
              "#f0f921"
             ]
            ],
            "type": "heatmapgl"
           }
          ],
          "histogram": [
           {
            "marker": {
             "pattern": {
              "fillmode": "overlay",
              "size": 10,
              "solidity": 0.2
             }
            },
            "type": "histogram"
           }
          ],
          "histogram2d": [
           {
            "colorbar": {
             "outlinewidth": 0,
             "ticks": ""
            },
            "colorscale": [
             [
              0,
              "#0d0887"
             ],
             [
              0.1111111111111111,
              "#46039f"
             ],
             [
              0.2222222222222222,
              "#7201a8"
             ],
             [
              0.3333333333333333,
              "#9c179e"
             ],
             [
              0.4444444444444444,
              "#bd3786"
             ],
             [
              0.5555555555555556,
              "#d8576b"
             ],
             [
              0.6666666666666666,
              "#ed7953"
             ],
             [
              0.7777777777777778,
              "#fb9f3a"
             ],
             [
              0.8888888888888888,
              "#fdca26"
             ],
             [
              1,
              "#f0f921"
             ]
            ],
            "type": "histogram2d"
           }
          ],
          "histogram2dcontour": [
           {
            "colorbar": {
             "outlinewidth": 0,
             "ticks": ""
            },
            "colorscale": [
             [
              0,
              "#0d0887"
             ],
             [
              0.1111111111111111,
              "#46039f"
             ],
             [
              0.2222222222222222,
              "#7201a8"
             ],
             [
              0.3333333333333333,
              "#9c179e"
             ],
             [
              0.4444444444444444,
              "#bd3786"
             ],
             [
              0.5555555555555556,
              "#d8576b"
             ],
             [
              0.6666666666666666,
              "#ed7953"
             ],
             [
              0.7777777777777778,
              "#fb9f3a"
             ],
             [
              0.8888888888888888,
              "#fdca26"
             ],
             [
              1,
              "#f0f921"
             ]
            ],
            "type": "histogram2dcontour"
           }
          ],
          "mesh3d": [
           {
            "colorbar": {
             "outlinewidth": 0,
             "ticks": ""
            },
            "type": "mesh3d"
           }
          ],
          "parcoords": [
           {
            "line": {
             "colorbar": {
              "outlinewidth": 0,
              "ticks": ""
             }
            },
            "type": "parcoords"
           }
          ],
          "pie": [
           {
            "automargin": true,
            "type": "pie"
           }
          ],
          "scatter": [
           {
            "fillpattern": {
             "fillmode": "overlay",
             "size": 10,
             "solidity": 0.2
            },
            "type": "scatter"
           }
          ],
          "scatter3d": [
           {
            "line": {
             "colorbar": {
              "outlinewidth": 0,
              "ticks": ""
             }
            },
            "marker": {
             "colorbar": {
              "outlinewidth": 0,
              "ticks": ""
             }
            },
            "type": "scatter3d"
           }
          ],
          "scattercarpet": [
           {
            "marker": {
             "colorbar": {
              "outlinewidth": 0,
              "ticks": ""
             }
            },
            "type": "scattercarpet"
           }
          ],
          "scattergeo": [
           {
            "marker": {
             "colorbar": {
              "outlinewidth": 0,
              "ticks": ""
             }
            },
            "type": "scattergeo"
           }
          ],
          "scattergl": [
           {
            "marker": {
             "colorbar": {
              "outlinewidth": 0,
              "ticks": ""
             }
            },
            "type": "scattergl"
           }
          ],
          "scattermapbox": [
           {
            "marker": {
             "colorbar": {
              "outlinewidth": 0,
              "ticks": ""
             }
            },
            "type": "scattermapbox"
           }
          ],
          "scatterpolar": [
           {
            "marker": {
             "colorbar": {
              "outlinewidth": 0,
              "ticks": ""
             }
            },
            "type": "scatterpolar"
           }
          ],
          "scatterpolargl": [
           {
            "marker": {
             "colorbar": {
              "outlinewidth": 0,
              "ticks": ""
             }
            },
            "type": "scatterpolargl"
           }
          ],
          "scatterternary": [
           {
            "marker": {
             "colorbar": {
              "outlinewidth": 0,
              "ticks": ""
             }
            },
            "type": "scatterternary"
           }
          ],
          "surface": [
           {
            "colorbar": {
             "outlinewidth": 0,
             "ticks": ""
            },
            "colorscale": [
             [
              0,
              "#0d0887"
             ],
             [
              0.1111111111111111,
              "#46039f"
             ],
             [
              0.2222222222222222,
              "#7201a8"
             ],
             [
              0.3333333333333333,
              "#9c179e"
             ],
             [
              0.4444444444444444,
              "#bd3786"
             ],
             [
              0.5555555555555556,
              "#d8576b"
             ],
             [
              0.6666666666666666,
              "#ed7953"
             ],
             [
              0.7777777777777778,
              "#fb9f3a"
             ],
             [
              0.8888888888888888,
              "#fdca26"
             ],
             [
              1,
              "#f0f921"
             ]
            ],
            "type": "surface"
           }
          ],
          "table": [
           {
            "cells": {
             "fill": {
              "color": "#EBF0F8"
             },
             "line": {
              "color": "white"
             }
            },
            "header": {
             "fill": {
              "color": "#C8D4E3"
             },
             "line": {
              "color": "white"
             }
            },
            "type": "table"
           }
          ]
         },
         "layout": {
          "annotationdefaults": {
           "arrowcolor": "#2a3f5f",
           "arrowhead": 0,
           "arrowwidth": 1
          },
          "autotypenumbers": "strict",
          "coloraxis": {
           "colorbar": {
            "outlinewidth": 0,
            "ticks": ""
           }
          },
          "colorscale": {
           "diverging": [
            [
             0,
             "#8e0152"
            ],
            [
             0.1,
             "#c51b7d"
            ],
            [
             0.2,
             "#de77ae"
            ],
            [
             0.3,
             "#f1b6da"
            ],
            [
             0.4,
             "#fde0ef"
            ],
            [
             0.5,
             "#f7f7f7"
            ],
            [
             0.6,
             "#e6f5d0"
            ],
            [
             0.7,
             "#b8e186"
            ],
            [
             0.8,
             "#7fbc41"
            ],
            [
             0.9,
             "#4d9221"
            ],
            [
             1,
             "#276419"
            ]
           ],
           "sequential": [
            [
             0,
             "#0d0887"
            ],
            [
             0.1111111111111111,
             "#46039f"
            ],
            [
             0.2222222222222222,
             "#7201a8"
            ],
            [
             0.3333333333333333,
             "#9c179e"
            ],
            [
             0.4444444444444444,
             "#bd3786"
            ],
            [
             0.5555555555555556,
             "#d8576b"
            ],
            [
             0.6666666666666666,
             "#ed7953"
            ],
            [
             0.7777777777777778,
             "#fb9f3a"
            ],
            [
             0.8888888888888888,
             "#fdca26"
            ],
            [
             1,
             "#f0f921"
            ]
           ],
           "sequentialminus": [
            [
             0,
             "#0d0887"
            ],
            [
             0.1111111111111111,
             "#46039f"
            ],
            [
             0.2222222222222222,
             "#7201a8"
            ],
            [
             0.3333333333333333,
             "#9c179e"
            ],
            [
             0.4444444444444444,
             "#bd3786"
            ],
            [
             0.5555555555555556,
             "#d8576b"
            ],
            [
             0.6666666666666666,
             "#ed7953"
            ],
            [
             0.7777777777777778,
             "#fb9f3a"
            ],
            [
             0.8888888888888888,
             "#fdca26"
            ],
            [
             1,
             "#f0f921"
            ]
           ]
          },
          "colorway": [
           "#636efa",
           "#EF553B",
           "#00cc96",
           "#ab63fa",
           "#FFA15A",
           "#19d3f3",
           "#FF6692",
           "#B6E880",
           "#FF97FF",
           "#FECB52"
          ],
          "font": {
           "color": "#2a3f5f"
          },
          "geo": {
           "bgcolor": "white",
           "lakecolor": "white",
           "landcolor": "#E5ECF6",
           "showlakes": true,
           "showland": true,
           "subunitcolor": "white"
          },
          "hoverlabel": {
           "align": "left"
          },
          "hovermode": "closest",
          "mapbox": {
           "style": "light"
          },
          "paper_bgcolor": "white",
          "plot_bgcolor": "#E5ECF6",
          "polar": {
           "angularaxis": {
            "gridcolor": "white",
            "linecolor": "white",
            "ticks": ""
           },
           "bgcolor": "#E5ECF6",
           "radialaxis": {
            "gridcolor": "white",
            "linecolor": "white",
            "ticks": ""
           }
          },
          "scene": {
           "xaxis": {
            "backgroundcolor": "#E5ECF6",
            "gridcolor": "white",
            "gridwidth": 2,
            "linecolor": "white",
            "showbackground": true,
            "ticks": "",
            "zerolinecolor": "white"
           },
           "yaxis": {
            "backgroundcolor": "#E5ECF6",
            "gridcolor": "white",
            "gridwidth": 2,
            "linecolor": "white",
            "showbackground": true,
            "ticks": "",
            "zerolinecolor": "white"
           },
           "zaxis": {
            "backgroundcolor": "#E5ECF6",
            "gridcolor": "white",
            "gridwidth": 2,
            "linecolor": "white",
            "showbackground": true,
            "ticks": "",
            "zerolinecolor": "white"
           }
          },
          "shapedefaults": {
           "line": {
            "color": "#2a3f5f"
           }
          },
          "ternary": {
           "aaxis": {
            "gridcolor": "white",
            "linecolor": "white",
            "ticks": ""
           },
           "baxis": {
            "gridcolor": "white",
            "linecolor": "white",
            "ticks": ""
           },
           "bgcolor": "#E5ECF6",
           "caxis": {
            "gridcolor": "white",
            "linecolor": "white",
            "ticks": ""
           }
          },
          "title": {
           "x": 0.05
          },
          "xaxis": {
           "automargin": true,
           "gridcolor": "white",
           "linecolor": "white",
           "ticks": "",
           "title": {
            "standoff": 15
           },
           "zerolinecolor": "white",
           "zerolinewidth": 2
          },
          "yaxis": {
           "automargin": true,
           "gridcolor": "white",
           "linecolor": "white",
           "ticks": "",
           "title": {
            "standoff": 15
           },
           "zerolinecolor": "white",
           "zerolinewidth": 2
          }
         }
        },
        "xaxis": {
         "anchor": "y",
         "domain": [
          0,
          1
         ],
         "title": {
          "text": "x"
         }
        },
        "yaxis": {
         "anchor": "x",
         "domain": [
          0,
          1
         ],
         "title": {
          "text": "value"
         }
        }
       }
      }
     },
     "metadata": {},
     "output_type": "display_data"
    }
   ],
   "source": [
    "px.line(X, x=X, y=[steps3, steps4])\n"
   ]
  },
  {
   "cell_type": "code",
   "execution_count": 9,
   "metadata": {},
   "outputs": [
    {
     "name": "stdout",
     "output_type": "stream",
     "text": [
      "[ 15000  60000  72600  86400 101400 135000 173400 194400 240000 264600]\n",
      "[     32    1024    2048    4096    8192   32768  131072  262144 1048576\n",
      " 2097152]\n"
     ]
    }
   ],
   "source": [
    "print(steps3)\n",
    "print(steps4)"
   ]
  },
  {
   "cell_type": "markdown",
   "metadata": {},
   "source": [
    "The algorithm Alg3 becomes faster than Alg4 if $n \\ge 18$, in other words, form a $\\mathbf{X}$ with length greater than 18. "
   ]
  },
  {
   "cell_type": "markdown",
   "metadata": {},
   "source": [
    "---"
   ]
  },
  {
   "cell_type": "markdown",
   "metadata": {},
   "source": [
    "Problema 1-1"
   ]
  },
  {
   "cell_type": "code",
   "execution_count": 462,
   "metadata": {},
   "outputs": [],
   "source": [
    "t1 = 1000\n",
    "t2 = 1000 * 60\n",
    "t3 = 1000 * 60 * 60\n",
    "t4 = 1000 * 60 * 60 * 24\n",
    "t5 = 1000 * 60 * 60 * 24 * 30\n",
    "t6 = 1000 * 60 * 60 * 24 * 30 * 12\n",
    "t7 = 1000 * 60 * 60 * 24 * 30 * 12 * 100"
   ]
  },
  {
   "cell_type": "code",
   "execution_count": 212,
   "metadata": {},
   "outputs": [
    {
     "name": "stdout",
     "output_type": "stream",
     "text": [
      "Time: lg(n): 0.06311663380285988 for n = 10^19\n",
      "Time: sqrt(n): 1.0 n = 10^6\n",
      "Time: n: 1.0 for n = 1000\n",
      "Time: n * log2(n): 0.9980996223722952 for n = 140\n",
      "Time: n ** 2: 0.961 for n = 31\n",
      "Time: n ** 3: 1.0 for n = 10\n",
      "Time: 2 ** n: 1.024 for n = 10\n",
      "Time: n!: 0.72 for n = 6\n"
     ]
    }
   ],
   "source": [
    "time_lg = np.log2(10**19) / t1\n",
    "time_sqrt = np.sqrt(10**6) / t1\n",
    "time = 1000 / t1\n",
    "time_n_lg_n = 140 * np.log2(140) / t1\n",
    "time_sq2 = 31 ** 2 / t1\n",
    "time_sq3 = 10 ** 3 / t1\n",
    "time_2_sq_n = 2 ** 10 / t1\n",
    "time_fat = math.factorial(6) / t1\n",
    "\n",
    "\n",
    "\n",
    "print(f\"Time: lg(n): {time_lg} for n = 10^19\")\n",
    "print(f\"Time: sqrt(n): {time_sqrt} n = 10^6\")\n",
    "print(f\"Time: n: {time} for n = 1000\")\n",
    "print(f\"Time: n * log2(n): {time_n_lg_n} for n = 140\")\n",
    "print(f\"Time: n ** 2: {time_sq2} for n = 31\")\n",
    "print(f\"Time: n ** 3: {time_sq3} for n = 10\")\n",
    "print(f\"Time: 2 ** n: {time_2_sq_n} for n = 10\")\n",
    "print(f\"Time: n!: {time_fat} for n = 6\")"
   ]
  },
  {
   "cell_type": "code",
   "execution_count": 213,
   "metadata": {},
   "outputs": [
    {
     "name": "stdout",
     "output_type": "stream",
     "text": [
      "Time: lg(n): 0.0010519438967143315 for n = 10^19\n",
      "Time: sqrt(n): 0.980071949031181 n = 3457947691\n",
      "Time: n: 1.0 for n = 60000\n",
      "Time: n * log2(n): 0.998832928111927 for n = 4890\n",
      "Time: n ** 2: 0.9922666666666666 for n = 244\n",
      "Time: n ** 3: 0.98865 for n = 39\n",
      "Time: 2 ** n: 0.5461333333333334 for n = 15\n",
      "Time: n!: 0.672 for n = 8\n"
     ]
    }
   ],
   "source": [
    "time_lg = np.log2(10**19) / t2\n",
    "time_sqrt = np.sqrt(11 ** 9 + 10 ** 9 + 10 ** 8) / t2\n",
    "time = 60000 / t2\n",
    "time_n_lg_n = 4890 * np.log2(4890) / t2\n",
    "time_sq2 = 244 ** 2 / t2\n",
    "time_sq3 = 39 ** 3 / t2\n",
    "time_2_sq_n = 2 ** 15 / t2\n",
    "time_fat = math.factorial(8) / t2\n",
    "\n",
    "\n",
    "\n",
    "print(f\"Time: lg(n): {time_lg} for n = 10^19\")\n",
    "print(f\"Time: sqrt(n): {time_sqrt} n = {11 ** 9 + 10 ** 9 + 10 ** 8}\")\n",
    "print(f\"Time: n: {time} for n = {60000}\")\n",
    "print(f\"Time: n * log2(n): {time_n_lg_n} for n = {4890}\")\n",
    "print(f\"Time: n ** 2: {time_sq2} for n = {244}\")\n",
    "print(f\"Time: n ** 3: {time_sq3} for n = {39}\")\n",
    "print(f\"Time: 2 ** n: {time_2_sq_n} for n = {15}\")\n",
    "print(f\"Time: n!: {time_fat} for n = {8}\")"
   ]
  },
  {
   "cell_type": "code",
   "execution_count": 281,
   "metadata": {},
   "outputs": [
    {
     "name": "stdout",
     "output_type": "stream",
     "text": [
      "Time: lg(n): 1.7532398278572192e-05 for n = 10^19\n",
      "Time: sqrt(n): 0.991593071136505 n = 12743008370688\n",
      "Time: n: 0.9961066666666667 for n = 3585984\n",
      "Time: n * log2(n): 0.9941992780486096 for n = 203000\n",
      "Time: n ** 2: 0.99856 for n = 1896\n",
      "Time: n ** 3: 0.9948825 for n = 153\n",
      "Time: 2 ** n: 0.5825422222222222 for n = 21\n",
      "Time: n!: 0.1008 for n = 9\n"
     ]
    }
   ],
   "source": [
    "time_lg = np.log2(10**19) / t3\n",
    "time_sqrt = np.sqrt((val2 := 10 ** 13 + 2 * 10 ** 12 + 12 ** 11)) / t3\n",
    "time = (val3 := 12 ** 6 + 6 * 10 ** 5) / t3\n",
    "time_n_lg_n = (val4 := 2 * 10 ** 5 + 3 * 10 ** 3) * np.log2(val4) / t3\n",
    "time_sq2 = (val5 := 1896) ** 2 / t3\n",
    "time_sq3 = (val6 := 153) ** 3 / t3\n",
    "time_2_sq_n = 2 ** (val7 := 21) / t3\n",
    "time_fat = math.factorial((val8 := 9)) / t3\n",
    "\n",
    "\n",
    "\n",
    "print(f\"Time: lg(n): {time_lg} for n = 10^19\")\n",
    "print(f\"Time: sqrt(n): {time_sqrt} n = {val2}\")\n",
    "print(f\"Time: n: {time} for n = {val3}\")\n",
    "print(f\"Time: n * log2(n): {time_n_lg_n} for n = {val4}\")\n",
    "print(f\"Time: n ** 2: {time_sq2} for n = {val5}\")\n",
    "print(f\"Time: n ** 3: {time_sq3} for n = {val6}\")\n",
    "print(f\"Time: 2 ** n: {time_2_sq_n} for n = {val7}\")\n",
    "print(f\"Time: n!: {time_fat} for n = {val8}\")"
   ]
  },
  {
   "cell_type": "code",
   "execution_count": 350,
   "metadata": {},
   "outputs": [
    {
     "name": "stdout",
     "output_type": "stream",
     "text": [
      "Time: lg(n): 7.30516594940508e-07 for n = 10^19\n",
      "Time: sqrt(n): 0.9683565121922171 n = 7000000000000000\n",
      "Time: n: 0.9259259259259259 for n = 80000000\n",
      "Time: n * log2(n): 0.9883178993503049 for n = 3900000\n",
      "Time: n ** 2: 0.9967407407407407 for n = 9280\n",
      "Time: n ** 3: 0.9994315740740741 for n = 442\n",
      "Time: 2 ** n: 0.776722962962963 for n = 26\n",
      "Time: n!: 0.462 for n = 11\n"
     ]
    }
   ],
   "source": [
    "time_lg = np.log2(10**19) / t4\n",
    "time_sqrt = np.sqrt((val2 := 7 * 10 ** 15)) / t4\n",
    "time = (val3 := 8 * 10 ** 7) / t4\n",
    "time_n_lg_n = (val4 := 3 * 10 ** 6 + 9 * 10 ** 5) * np.log2(val4) / t4\n",
    "time_sq2 = (val5 := 9280) ** 2 / t4\n",
    "time_sq3 = (val6 := 442) ** 3 / t4\n",
    "time_2_sq_n = 2 ** (val7 := 26) / t4\n",
    "time_fat = math.factorial((val8 := 11)) / t4\n",
    "\n",
    "\n",
    "\n",
    "print(f\"Time: lg(n): {time_lg} for n = 10^19\")\n",
    "print(f\"Time: sqrt(n): {time_sqrt} n = {val2}\")\n",
    "print(f\"Time: n: {time} for n = {val3}\")\n",
    "print(f\"Time: n * log2(n): {time_n_lg_n} for n = {val4}\")\n",
    "print(f\"Time: n ** 2: {time_sq2} for n = {val5}\")\n",
    "print(f\"Time: n ** 3: {time_sq3} for n = {val6}\")\n",
    "print(f\"Time: 2 ** n: {time_2_sq_n} for n = {val7}\")\n",
    "print(f\"Time: n!: {time_fat} for n = {val8}\")"
   ]
  },
  {
   "cell_type": "code",
   "execution_count": 401,
   "metadata": {},
   "outputs": [
    {
     "name": "stdout",
     "output_type": "stream",
     "text": [
      "Time: lg(n): 2.4350553164683597e-08 for n = 10^19\n",
      "Time: sqrt(n): 0.9450191908885719 n = 6000000000000000000\n",
      "Time: n: 0.9645061728395061 for n = 2500000000\n",
      "Time: n * log2(n): 0.9928833707239956 for n = 97000000\n",
      "Time: n ** 2: 0.9897463348765432 for n = 50650\n",
      "Time: n ** 3: 0.9704691358024692 for n = 1360\n",
      "Time: 2 ** n: 0.8285044938271605 for n = 31\n",
      "Time: n!: 0.1848 for n = 12\n"
     ]
    }
   ],
   "source": [
    "time_lg = np.log2(10**19) / t5\n",
    "time_sqrt = np.sqrt((val2 := 6 * 10 ** 18)) / t5\n",
    "time = (val3 := 2 * 10 ** 9 + 5 * 10 ** 8) / t5\n",
    "time_n_lg_n = (val4 := 9 * 10 ** 7 + 7 * 10 ** 6) * np.log2(val4) / t5\n",
    "time_sq2 = (val5 := 50650) ** 2 / t5\n",
    "time_sq3 = (val6 := 1360) ** 3 / t5\n",
    "time_2_sq_n = 2 ** (val7 := 31) / t5\n",
    "time_fat = math.factorial((val8 := 12)) / t5\n",
    "\n",
    "\n",
    "\n",
    "print(f\"Time: lg(n): {time_lg} for n = 10^19\")\n",
    "print(f\"Time: sqrt(n): {time_sqrt} n = {val2}\")\n",
    "print(f\"Time: n: {time} for n = {val3}\")\n",
    "print(f\"Time: n * log2(n): {time_n_lg_n} for n = {val4}\")\n",
    "print(f\"Time: n ** 2: {time_sq2} for n = {val5}\")\n",
    "print(f\"Time: n ** 3: {time_sq3} for n = {val6}\")\n",
    "print(f\"Time: 2 ** n: {time_2_sq_n} for n = {val7}\")\n",
    "print(f\"Time: n!: {time_fat} for n = {val8}\")"
   ]
  },
  {
   "cell_type": "code",
   "execution_count": 460,
   "metadata": {},
   "outputs": [
    {
     "name": "stdout",
     "output_type": "stream",
     "text": [
      "Time: lg(n): 2.029212763723633e-09 for n = inf\n",
      "Time: sqrt(n): 0.13640177106221982 n = 18000000000000000000\n",
      "Time: n: 0.9645061728395061 for n = 30000000000\n",
      "Time: n * log2(n): 0.9601984801851684 for n = 999000000\n",
      "Time: n ** 2: 0.9846000514403292 for n = 175000\n",
      "Time: n ** 3: 0.9953428497942387 for n = 3140\n",
      "Time: 2 ** n: 0.552336329218107 for n = 34\n",
      "Time: n!: 0.2002 for n = 13\n"
     ]
    }
   ],
   "source": [
    "time_lg = np.log2(10**19) / t6\n",
    "time_sqrt = np.sqrt((val2 := 10 ** 19 + 8 * 10 ** 18)) / t6\n",
    "time = (val3 := 3 * 10 ** 10) / t6\n",
    "time_n_lg_n = (val4 := 9 * 10 ** 8 + 9 * 10 ** 7 + 9 * 10 ** 6) * np.log2(val4) / t6\n",
    "time_sq2 = (val5 := 10 ** 5 + 7 * 10 ** 4 + 5 * 10 ** 3) ** 2 / t6\n",
    "time_sq3 = (val6 := 3140) ** 3 / t6\n",
    "time_2_sq_n = 2 ** (val7 := 34) / t6\n",
    "time_fat = math.factorial((val8 := 13)) / t6\n",
    "\n",
    "\n",
    "\n",
    "print(f\"Time: lg(n): {time_lg} for n = inf\")\n",
    "print(f\"Time: sqrt(n): {time_sqrt} n = {val2}\")\n",
    "print(f\"Time: n: {time} for n = {val3}\")\n",
    "print(f\"Time: n * log2(n): {time_n_lg_n} for n = {val4}\")\n",
    "print(f\"Time: n ** 2: {time_sq2} for n = {val5}\")\n",
    "print(f\"Time: n ** 3: {time_sq3} for n = {val6}\")\n",
    "print(f\"Time: 2 ** n: {time_2_sq_n} for n = {val7}\")\n",
    "print(f\"Time: n!: {time_fat} for n = {val8}\")"
   ]
  },
  {
   "cell_type": "code",
   "execution_count": 499,
   "metadata": {},
   "outputs": [
    {
     "name": "stdout",
     "output_type": "stream",
     "text": [
      "Time: lg(n): 2.0292127637236332e-11 for n = inf\n",
      "Time: sqrt(n): 0.0013640177106221982 n = inf\n",
      "Time: n: 0.9645061728395061 for n = 3000000000000\n",
      "Time: n * log2(n): 0.931565868026585 for n = 80000000000\n",
      "Time: n ** 2: 0.9291409465020576 for n = 1700000\n",
      "Time: n ** 3: 0.9801392103909465 for n = 14500\n",
      "Time: 2 ** n: 0.706990501399177 for n = 41\n",
      "Time: n!: 0.42042 for n = 15\n"
     ]
    }
   ],
   "source": [
    "time_lg = np.log2(10**19) / t7\n",
    "time_sqrt = np.sqrt((val2 := 10 ** 19 + 8 * 10 ** 18)) / t7\n",
    "time = (val3 := 3 * 10 ** 12) / t7\n",
    "time_n_lg_n = (val4 := 8 * 10 ** 10) * np.log2(val4) / t7\n",
    "time_sq2 = (val5 := 10 ** 6 + 7 * 10 ** 5) ** 2 / t7\n",
    "time_sq3 = (val6 := 14500) ** 3 / t7\n",
    "time_2_sq_n = 2 ** (val7 := 41) / t7\n",
    "time_fat = math.factorial((val8 := 15)) / t7\n",
    "\n",
    "\n",
    "\n",
    "print(f\"Time: lg(n): {time_lg} for n = inf\")\n",
    "print(f\"Time: sqrt(n): {time_sqrt} n = inf\")\n",
    "print(f\"Time: n: {time} for n = {val3}\")\n",
    "print(f\"Time: n * log2(n): {time_n_lg_n} for n = {val4}\")\n",
    "print(f\"Time: n ** 2: {time_sq2} for n = {val5}\")\n",
    "print(f\"Time: n ** 3: {time_sq3} for n = {val6}\")\n",
    "print(f\"Time: 2 ** n: {time_2_sq_n} for n = {val7}\")\n",
    "print(f\"Time: n!: {time_fat} for n = {val8}\")"
   ]
  }
 ],
 "metadata": {
  "kernelspec": {
   "display_name": ".venv",
   "language": "python",
   "name": "python3"
  },
  "language_info": {
   "codemirror_mode": {
    "name": "ipython",
    "version": 3
   },
   "file_extension": ".py",
   "mimetype": "text/x-python",
   "name": "python",
   "nbconvert_exporter": "python",
   "pygments_lexer": "ipython3",
   "version": "3.10.9"
  },
  "orig_nbformat": 4
 },
 "nbformat": 4,
 "nbformat_minor": 2
}
