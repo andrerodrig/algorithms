{
 "cells": [
  {
   "cell_type": "code",
   "execution_count": 1,
   "metadata": {},
   "outputs": [],
   "source": [
    "from algorithms.chapter2 import selection_sort"
   ]
  },
  {
   "cell_type": "markdown",
   "metadata": {},
   "source": [
    "# Questions from chapter 2.2\n"
   ]
  },
  {
   "cell_type": "markdown",
   "metadata": {},
   "source": [
    "2.2-1\n",
    "\n",
    "Express the function $n^3/1000 + 100n^2 - 100n + 3$ in terms of $\\Theta$-notation."
   ]
  },
  {
   "cell_type": "markdown",
   "metadata": {},
   "source": [
    "Ans:\n",
    "\n",
    "$T(n) = \\Theta(n^3)$"
   ]
  },
  {
   "cell_type": "markdown",
   "metadata": {},
   "source": [
    "2.2-2\n",
    "\n",
    "Consider sorting `n` numbers stored in array `A[1:n]` by first finding the smallest\n",
    "element of `A[1:n]` and exchanging it with the element in `A[1]`. Then find the\n",
    "smallest element of `A[2:n]`, and exchange it with `A[2]`. Then find the smallest\n",
    "element of `A[3:n]`, and exchange it with `A[3]`. Continue in this manner for the\n",
    "first `n - 1` elements of `A`. Write pseudocode for this algorithm, which is known\n",
    "as selection sort. What loop invariant does this algorithm maintain? Why does it\n",
    "need to run for only the first `n-1` elements, rather than for all `n` elements? Give the\n",
    "worst-case running time of selection sort in ‚$\\Theta$-notation. Is the best-case running\n",
    "time any better?"
   ]
  },
  {
   "cell_type": "code",
   "execution_count": null,
   "metadata": {},
   "outputs": [],
   "source": [
    "a = [31, 41, 59, 26, 41, 58]\n",
    "selection_sort()"
   ]
  },
  {
   "cell_type": "markdown",
   "metadata": {},
   "source": [
    "$$E[X] = \\sum_{i=1}^{n} i \\cdot \\frac{1}{n} = \\frac{1}{n} \\sum_{i=1}^{n} i = \\frac{1}{n} \\cdot \\frac{n (n + 1)}{2} = \\frac{n + 1}{2}$$"
   ]
  },
  {
   "cell_type": "markdown",
   "metadata": {},
   "source": []
  }
 ],
 "metadata": {
  "kernelspec": {
   "display_name": ".venv",
   "language": "python",
   "name": "python3"
  },
  "language_info": {
   "codemirror_mode": {
    "name": "ipython",
    "version": 3
   },
   "file_extension": ".py",
   "mimetype": "text/x-python",
   "name": "python",
   "nbconvert_exporter": "python",
   "pygments_lexer": "ipython3",
   "version": "3.10.9"
  },
  "orig_nbformat": 4
 },
 "nbformat": 4,
 "nbformat_minor": 2
}
