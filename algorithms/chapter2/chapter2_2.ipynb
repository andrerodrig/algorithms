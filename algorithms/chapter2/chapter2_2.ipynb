{
 "cells": [
  {
   "cell_type": "code",
   "execution_count": 7,
   "metadata": {},
   "outputs": [],
   "source": [
    "from algorithms.chapter2.selection_sort import selection_sort"
   ]
  },
  {
   "cell_type": "markdown",
   "metadata": {},
   "source": [
    "# Questions from chapter 2.2\n"
   ]
  },
  {
   "cell_type": "markdown",
   "metadata": {},
   "source": [
    "2.2-1\n",
    "\n",
    "Express the function $n^3/1000 + 100n^2 - 100n + 3$ in terms of $\\Theta$-notation."
   ]
  },
  {
   "cell_type": "markdown",
   "metadata": {},
   "source": [
    "Ans:\n",
    "\n",
    "$T(n) = \\Theta(n^3)$"
   ]
  },
  {
   "cell_type": "markdown",
   "metadata": {},
   "source": [
    "2.2-2\n",
    "\n",
    "Consider sorting `n` numbers stored in array `A[1:n]` by first finding the smallest\n",
    "element of `A[1:n]` and exchanging it with the element in `A[1]`. Then find the\n",
    "smallest element of `A[2:n]`, and exchange it with `A[2]`. Then find the smallest\n",
    "element of `A[3:n]`, and exchange it with `A[3]`. Continue in this manner for the\n",
    "first `n - 1` elements of `A`. Write pseudocode for this algorithm, which is known\n",
    "as selection sort. What loop invariant does this algorithm maintain? Why does it\n",
    "need to run for only the first `n-1` elements, rather than for all `n` elements? Give the\n",
    "worst-case running time of selection sort in ‚$\\Theta$-notation. Is the best-case running\n",
    "time any better?"
   ]
  },
  {
   "cell_type": "code",
   "execution_count": 9,
   "metadata": {},
   "outputs": [
    {
     "data": {
      "text/plain": [
       "[26, 31, 41, 41, 58, 59]"
      ]
     },
     "execution_count": 9,
     "metadata": {},
     "output_type": "execute_result"
    }
   ],
   "source": [
    "a = [31, 41, 59, 26, 41, 58]\n",
    "selection_sort(a)"
   ]
  },
  {
   "cell_type": "markdown",
   "metadata": {},
   "source": [
    "----\n",
    "Selection sort Algorithm\n",
    "\n",
    "```\n",
    "selection_sort(A):\n",
    "    for i from 0 to len(A) - 2:\n",
    "        min = A[i]\n",
    "        min_index = i\n",
    "        for j = i + 1 to len(A):\n",
    "            if A[j] < min:\n",
    "                min = A[j]\n",
    "                min_index = j\n",
    "        old_i_value = A[i]\n",
    "        A[i] = min\n",
    "        if min_index != i:\n",
    "            A[min_index] = old_i_value\n",
    "    return A    \n",
    "```\n"
   ]
  },
  {
   "cell_type": "markdown",
   "metadata": {},
   "source": [
    "**Loop invariant**:\n",
    "\n",
    "the list is represented by: $A[0:n-1] = [a_0, a_1, a_2, ..., a_{n-1}]$, with $n = len(A)$.\n",
    "\n",
    "If we are in an index i, all the elements in the subarray $A[0, i-1]$ are sorted, and all elements in $A[i+1:n-1]$ are unsorted.\n",
    "\n",
    "_Init:_\n",
    "\n",
    "- For $i = 0$, $min = A[0]$, $min_index = 0$. The subarray $A[0:-1]$ does not exist (it's empty). So it's sorted. All the elements inside the array are sorted.\n",
    "\n",
    "_Maintenance:_\n",
    "\n",
    "- for $i = k < len(A)$: All the $u \\in A$ are sorted and all $v \\in A[k+1, n-1] are sorted$\n",
    "\n",
    "_End:_\n",
    "\n",
    "- if $i = len(A) - 1$, $min = A[n - 1]$. The array is already sorted, because the only element that have remained is the last one, which was already swapped with $A[n-2]$.\n",
    "\n",
    "The algorithm itself goes through all elements, just the first loop does not need to iterate until the last, because the second one has already gone through it."
   ]
  },
  {
   "cell_type": "markdown",
   "metadata": {},
   "source": [
    "Complexity:\n",
    "\n",
    "- worst case: $\\Theta(n^2)$\n",
    "- best case: $\\Theta(n^2)$\n",
    "\n",
    "The best-case running time is not any better."
   ]
  },
  {
   "cell_type": "markdown",
   "metadata": {},
   "source": [
    "2.2-3\n",
    "\n",
    "Consider linear search again (see Exercise 2.1-4). How many elements of the input\n",
    "array need to be checked on the average, assuming that the element being searched\n",
    "for is equally likely to be any element in the array? How about in the worst case?\n",
    "\n",
    "Using Theta-notation, give the average-case and worst-case running times of linear\n",
    "search. Justify your answers."
   ]
  },
  {
   "cell_type": "markdown",
   "metadata": {},
   "source": [
    "How the elements has equal probability to be found, lets $X$ be the number of steps to reach the element to be found. and $x_i$ the number of steps to check before find an i-th element. The expected value is this:\n",
    "\n",
    "$$E[X] = \\sum_{i=1}^{n} x_i \\cdot P(x_i)$$\n",
    "\n",
    "where n is the number of. For this problem, $P(x_i) = \\frac{1}{n}$, and the number of elements checked is $i$, so:\n",
    "\n",
    "$$E[X] = \\sum_{i=1}^{n} i \\cdot \\frac {1} {n} = \\frac {1} {n} \\cdot \\sum_ {i=1}^ {n} i = \\frac {1} {n} \\cdot \\frac {n \\cdot (n+1)} {2} = \\frac {n+1} {2}$$\n",
    "\n",
    "Therefore, if $E[x] = \\frac {n+1}{2}$, asymptotically, the complexity of the average case of this function when $n$ increase indefinitely, is:\n",
    "\n",
    "$$\\frac{n+1}{2} = \\Theta(n)$$"
   ]
  }
 ],
 "metadata": {
  "kernelspec": {
   "display_name": ".venv",
   "language": "python",
   "name": "python3"
  },
  "language_info": {
   "codemirror_mode": {
    "name": "ipython",
    "version": 3
   },
   "file_extension": ".py",
   "mimetype": "text/x-python",
   "name": "python",
   "nbconvert_exporter": "python",
   "pygments_lexer": "ipython3",
   "version": "3.10.9"
  },
  "orig_nbformat": 4
 },
 "nbformat": 4,
 "nbformat_minor": 2
}
