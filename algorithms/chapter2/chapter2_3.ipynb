{
 "cells": [
  {
   "cell_type": "code",
   "execution_count": 1,
   "metadata": {},
   "outputs": [],
   "source": [
    "from algorithms.chapter2.merge_sort import merge_sort"
   ]
  },
  {
   "cell_type": "markdown",
   "metadata": {},
   "source": [
    "# Questions from chapter 2.3\n"
   ]
  },
  {
   "cell_type": "markdown",
   "metadata": {},
   "source": [
    "2.3-1:\n",
    "\n",
    "Using the figure 2.4 as a model, illustrate the operation of merge sort on an array initially containing the sequence $[3, 41, 52, 26, 38, 57, 9, 49]$\n",
    "\n",
    "---\n",
    "Ans:\n",
    "\n",
    "$$\n",
    "[3, 41, 52, 26, 38, 57, 9, 49]\\\\\n",
    "[3, 41, 52, 26]\\ [38, 57, 9, 49]\\\\\n",
    "[3, 41]\\ [52, 26]\\ [38, 57]\\ [9, 49]\\\\\n",
    "[3]\\ [41]\\ [52]\\ [26]\\ [38]\\ [57]\\ [9]\\ [49]\\\\\n",
    "[3, 41]\\ [26, 52]\\ [38, 57]\\ [9, 49]\\\\\n",
    "[3, 26, 41, 52]\\ [9, 38, 49, 57]\\\\\n",
    "[3, 9, 26, 38, 41, 49, 52, 57]\\\\\n",
    "$$"
   ]
  },
  {
   "cell_type": "markdown",
   "metadata": {},
   "source": [
    "2.3-2:\n",
    "\n",
    "The test in line 1 of the `merge_sort` procedure reads \"$if\\ p \\geq r$\" rather than \"$if\\ p \\neq r$\". If merge_sort is called with $p > r$, than the subarray $A[p:r]$ is empty. Argue that as long as the initial call of merge_sort(A, 1, n) has $n \\geq 1$, the test \"$if p \\neq r$\" suffices to ensure that no recursive call has $p > r$.\n",
    "\n",
    "---\n",
    "Ans:\n",
    "\n",
    "If $n \\geq 1$, the vector $A[1:n]$ has length $n$. The $merge\\_sort(A, 1, n)$ init by a verctor of length $n$. With the statement above want to prove is that if is sufficient to say that $if\\ p \\neq r$, we can continue the recursion, otherwise ($if\\ p = r$), stop the recursion returning $NIL$.\n",
    "\n",
    "**Base case:**\n",
    "\n",
    "The first recursion, is with vector of length $n$, so $p = 1$, and $r = n$. At this time, $p \\neq r$, so we can continue the recursion.\n",
    "\n",
    "**Inductive step:**\n",
    "\n",
    "Suppose that we have a step $i$ of the recursion. With the size of $A$ being $k > 1$. If $k = r > 1$, then the $p \\neq r$, continuing the recursion, at this point. If it works, the $i + 1$-th step of the recursion, with $r = k + 1 > 1$ also continues the recursion. So until this moment the test $if\\ p \\neq r$ is sufficient to support the recursion.\n",
    "\n",
    "**Final step:**\n",
    "\n",
    "Now suppose that $k = 1$, so we have a vector A with length 1. At this moment, $p = r$, and the test $if\\ p = r$ passes, making the recursion stop and return $NIL$.\n",
    "\n",
    "Therefore, the test $if\\ p \\neq r$  is sufficient to run the recursion, and $if\\ p = r$ suffices to make the recursion stop."
   ]
  },
  {
   "cell_type": "markdown",
   "metadata": {},
   "source": [
    "2.3-3:\n",
    "\n",
    "State the loop invariant for the while loop of lines 12-18 of the `merge` procedure. Show how to use ir, along with the while loops of lines 20-23 and 24-27, to prove that the `merge` procedure is correct."
   ]
  },
  {
   "cell_type": "markdown",
   "metadata": {},
   "source": []
  }
 ],
 "metadata": {
  "kernelspec": {
   "display_name": ".venv",
   "language": "python",
   "name": "python3"
  },
  "language_info": {
   "codemirror_mode": {
    "name": "ipython",
    "version": 3
   },
   "file_extension": ".py",
   "mimetype": "text/x-python",
   "name": "python",
   "nbconvert_exporter": "python",
   "pygments_lexer": "ipython3",
   "version": "3.10.9"
  }
 },
 "nbformat": 4,
 "nbformat_minor": 2
}
