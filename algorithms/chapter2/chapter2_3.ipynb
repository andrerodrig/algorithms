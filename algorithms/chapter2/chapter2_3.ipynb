{
 "cells": [
  {
   "cell_type": "code",
   "execution_count": 1,
   "metadata": {},
   "outputs": [],
   "source": [
    "from algorithms.chapter2.merge_sort import merge_sort"
   ]
  },
  {
   "cell_type": "markdown",
   "metadata": {},
   "source": [
    "# Questions from chapter 2.3\n"
   ]
  },
  {
   "cell_type": "markdown",
   "metadata": {},
   "source": [
    "2.3-1:\n",
    "\n",
    "Using the figure 2.4 as a model, illustrate the operation of merge sort on an array initially containing the sequence $[3, 41, 52, 26, 38, 57, 9, 49]$\n",
    "\n",
    "---\n",
    "Ans:\n",
    "\n",
    "$$\n",
    "[3, 41, 52, 26, 38, 57, 9, 49]\\\\\n",
    "[3, 41, 52, 26]\\ [38, 57, 9, 49]\\\\\n",
    "[3, 41]\\ [52, 26]\\ [38, 57]\\ [9, 49]\\\\\n",
    "[3]\\ [41]\\ [52]\\ [26]\\ [38]\\ [57]\\ [9]\\ [49]\\\\\n",
    "[3, 41]\\ [26, 52]\\ [38, 57]\\ [9, 49]\\\\\n",
    "[3, 26, 41, 52]\\ [9, 38, 49, 57]\\\\\n",
    "[3, 9, 26, 38, 41, 49, 52, 57]\\\\\n",
    "$$"
   ]
  },
  {
   "cell_type": "markdown",
   "metadata": {},
   "source": [
    "2.3-2:\n",
    "\n",
    "The test in line 1 of the `merge_sort` procedure reads \"$if\\ p \\geq r$\" rather than \"$if\\ p \\neq r$\". If merge_sort is called with $p > r$, than the subarray $A[p:r]$ is empty. Argue that as long as the initial call of merge_sort(A, 1, n) has $n \\geq 1$, the test \"$if p \\neq r$\" suffices to ensure that no recursive call has $p > r$.\n",
    "\n",
    "---\n",
    "Ans:\n",
    "\n",
    "If $n \\geq 1$, the vector $A[1:n]$ has length $n$. The $merge\\_sort(A, 1, n)$ init by a verctor of length $n$. With the statement above want to prove is that if is sufficient to say that $if\\ p \\neq r$, we can continue the recursion, otherwise ($if\\ p = r$), stop the recursion returning $NIL$.\n",
    "\n",
    "**Base case:**\n",
    "\n",
    "The first recursion, is with vector of length $n$, so $p = 1$, and $r = n$. At this time, $p \\neq r$, so we can continue the recursion.\n",
    "\n",
    "**Inductive step:**\n",
    "\n",
    "Suppose that we have a step $i$ of the recursion. With the size of $A$ being $k > 1$. If $k = r > 1$, then the $p \\neq r$, continuing the recursion, at this point. If it works, the $i + 1$-th step of the recursion, with $r = k + 1 > 1$ also continues the recursion. So until this moment the test $if\\ p \\neq r$ is sufficient to support the recursion.\n",
    "\n",
    "**Final step:**\n",
    "\n",
    "Now suppose that $k = 1$, so we have a vector A with length 1. At this moment, $p = r$, and the test $if\\ p = r$ passes, making the recursion stop and return $NIL$.\n",
    "\n",
    "Therefore, the test $if\\ p \\neq r$  is sufficient to run the recursion, and $if\\ p = r$ suffices to make the recursion stop."
   ]
  },
  {
   "cell_type": "markdown",
   "metadata": {},
   "source": [
    "2.3-3:\n",
    "\n",
    "State the loop invariant for the while loop of lines 12-18 of the `merge` procedure. Show how to use ir, along with the while loops of lines 20-23 and 24-27, to prove that the `merge` procedure is correct."
   ]
  },
  {
   "cell_type": "markdown",
   "metadata": {},
   "source": [
    "while loop L12-L18 of `merge` algorithm\n",
    "\n",
    "```\n",
    "wile i < n_L and j < n_R:\n",
    "    if L[i] <= R[j]:\n",
    "        A[k] = L[i]\n",
    "        i += 1\n",
    "    else:\n",
    "        A[k] = R[j]\n",
    "        j += 1\n",
    "    k += 1\n",
    "```\n",
    "\n",
    "With $n_L$ and $n_R$ being the length of $L$ and $R$"
   ]
  },
  {
   "cell_type": "markdown",
   "metadata": {},
   "source": [
    "For some $k$ of $A$: $A[k]$ is the element that is being added from $L$ and $R$. $A[p:k-1]$ is sorted and $A[k+1:r]$ is not sorted.\n",
    "\n",
    "**Initialization:**\n",
    "\n",
    "$i = 0$, $j = 0$ and $k = p$.\n",
    "\n",
    "After the first validation, we know that $i < n_L$, $j < n_R$ and $A[k]$ is the first element of the array $A$. Thus, at this moment, $A[p:k-1] = A[k:k-1]$ is an empty array, which is sorted, and we have the whole array $A[k+1:r] = A[p+1:r]$ unsorted.\n",
    "\n",
    "**Maintenance**\n",
    "\n",
    "Suppose that the algorithm works for $0 < i < n_L$, $0 < j < n_R$ and $p < k < r$.\n",
    "\n",
    "Then, $0 < i + 1 < n_L$, $0 < j + 1 < n_R$ and $p < k + 1 < r$. Considering the two cases ($L[i] \\leq R[j]$ or $L[i] \\geq R[j]$), the subvector $A[p:k]$ is sorted, and $A[k+2:r]$ is unsorted.\n",
    "\n",
    "**End**\n",
    "\n",
    "Now, $i = n_L$, $0 < j \\leq n_R$ and $p < k \\leq r$. In this case, the algorithm stops with $A[k+1:r]$ unsorted. The same is true for the case of $j = n_R$, $0 < i \\leq n_L$ and $p < k \\leq r$."
   ]
  },
  {
   "cell_type": "markdown",
   "metadata": {},
   "source": [
    "This loop invariant finishes with two possible ways, either $i = n_L$ or $j = n_R$. Depending on which case it goes, the lines 20-23 or 24-27 is executed. This last lines insert the remaining values to the sorted values $A$."
   ]
  },
  {
   "cell_type": "markdown",
   "metadata": {},
   "source": [
    "2.3-4\n",
    "\n",
    "Use mathematical induction to show that when $n \\geq 2$ is an exact power of 2, the\n",
    "solution of the recurrence:\n",
    "\n",
    "$$\n",
    "T(n) = \n",
    "\\begin{cases}\n",
    "    2, & \\text{if}\\ n = 2\\\\\n",
    "    2T(n/2) + n, & \\text{if}\\ n > 2\n",
    "\\end{cases}\n",
    "$$\n",
    "\n",
    "is $T(n) = n\\lg n$."
   ]
  },
  {
   "cell_type": "markdown",
   "metadata": {},
   "source": [
    "\n",
    "---\n",
    "As n is a power of 2, we can write  $n = 2^k$.\n",
    "\n",
    "\n",
    "* if $n = 2$ (with $k = 1$):\n",
    "\n",
    "$$\n",
    "T(2) = 2 = 2 \\cdot \\lg\\ 2\\ (n\\lg n\\ \\text{with}\\ n = 2).\n",
    "$$\n",
    "\n",
    "* if $n \\geq 2$:\n",
    "\n",
    "Suppose that is true that:\n",
    "\n",
    "\n",
    "$$\n",
    "T(2^k) = 2T(2^k/2) + 2^k = 2^k \\cdot \\lg 2^k\n",
    "$$\n",
    "\n",
    "So:\n",
    "\n",
    "$$\n",
    "T(2^{k + 1})\\quad = 2T(2^{k + 1}/2) + 2^{k + 1} = 2T(\\frac{2^{k} \\cdot 2}{2}) + 2^{k + 1}\\\\\n",
    "= 2T(2^{k}) + 2^{k + 1} = 2(2^{k}\\lg 2^k) + 2^{k + 1} = 2(k \\cdot 2^{k}\\lg 2) + 2^{k + 1}\\\\\n",
    "= 2(k \\cdot 2^{k}) + 2^{k + 1} = (k2^{k + 1}) + 2^{k + 1} = 2^{k + 1}(k + 1)\\\\\n",
    "= 2^{k + 1}(k + 1) = 2^{k + 1}(k + 1)\\lg 2 \\\\\n",
    "= 2^{k + 1}\\lg 2^{k + 1}\n",
    "$$"
   ]
  },
  {
   "cell_type": "markdown",
   "metadata": {},
   "source": [
    "2.3-5:\n",
    "\n",
    "You can also think of insertion sort as a recursive algorithm. In order to sort\n",
    "$A[1:n]$, recursively sort the subarray $A[1:n-1]$ and then insert $A[n]$ into the\n",
    "sorted subarray $A[1:n-1]$. Write pseudocode for this recursive version of insertion sort. Give a recurrence for its worst-case running time. "
   ]
  },
  {
   "cell_type": "markdown",
   "metadata": {},
   "source": [
    "Ans:\n",
    "\n",
    "---\n",
    "\n",
    "The code for the recursive version of the `insertion_sort` algorithm, is defined in  line 35 of [insertion_sort.py](insertion_sort.py).\n",
    "\n",
    "The pseudocode for this algorithm is as follows:\n",
    "\n",
    "```\n",
    "recursive_insertion_sort(vector, size):\n",
    "    if size == 1:                               # \\Theta(1)\n",
    "        return None                             # O(1)\n",
    "\n",
    "    key = vector[size - 1]                      # \\Theta(1)\n",
    "    recursive_insertion_sort(vector, size - 1)  # T(n - 1)\n",
    "    if key > vector[size - 2]:                  # \\Theta(1)\n",
    "        return vector                           # O(1)\n",
    "\n",
    "    i = size - 2                                # \\Theta(1)\n",
    "    while i > -1 and vector[i] >= key:          # O(n)\n",
    "        vector[i + 1] = vector[i]               # O(n)\n",
    "        i -= 1                                  # O(n)\n",
    "\n",
    "    vector[i + 1] = key                         # O(1)\n",
    "    return vector                               # O(1)\n",
    "```\n",
    "The recurrence function is $T(n) = T(n - 1) + O(n)$. The wrost case of this function gives time of $\\Theta(n^2)$. This algorithm in general is $O(n^2)$."
   ]
  },
  {
   "cell_type": "markdown",
   "metadata": {},
   "source": [
    "2.3-6\n",
    "\n",
    "Referring back to the searching problem (see Exercise 2.1-4), observe that if the\n",
    "subarray being searched is already sorted, the searching algorithm can check the\n",
    "midpoint of the subarray against v and eliminate half of the subarray from further \n",
    "consideration. The binary search algorithm repeats this procedure, halving the\n",
    "size of the remaining portion of the subarray each time. Write pseudocode, either\n",
    "iterative or recursive, for binary search. Argue that the worst-case running time of\n",
    "binary search is $\\Theta(\\lg n)$"
   ]
  },
  {
   "cell_type": "markdown",
   "metadata": {},
   "source": [
    "Ans:\n",
    "\n",
    "---\n",
    "\n",
    "The code for `binary_search` is defined in [binary_search.py](binary_search.py).\n",
    "\n",
    "```\n",
    "binary_search(vector, target, initial_position, final_position):\n",
    "    if initial_position >= final_position:                                      \\Theta(1)\n",
    "        return None                                                             O(1)\n",
    "\n",
    "    half = initial_position + floor((final_position - initial_position) / 2)    \\Theta(1)\n",
    "    obtained = vector[half]                                                     \\Theta(1)\n",
    "    if obtained == target:                                                      \\O(1)\n",
    "        return half\n",
    "\n",
    "    if target < obtained:                                                       \\Theta(1)\n",
    "        return binary_search(vector, target, initial_position, half)            T(n/2)\n",
    "    else:\n",
    "        return binary_search(vector, target, half + 1, final_position)          T(n/2)\n",
    "\n",
    "```\n",
    "\n",
    "This recurrence is $T(n) = T(n/2) + \\Theta(1)$\n",
    "\n",
    "We can prove by substitution method that $T(n) = \\Theta(\\lg n)$"
   ]
  },
  {
   "cell_type": "markdown",
   "metadata": {},
   "source": []
  },
  {
   "cell_type": "markdown",
   "metadata": {},
   "source": []
  }
 ],
 "metadata": {
  "kernelspec": {
   "display_name": ".venv",
   "language": "python",
   "name": "python3"
  },
  "language_info": {
   "codemirror_mode": {
    "name": "ipython",
    "version": 3
   },
   "file_extension": ".py",
   "mimetype": "text/x-python",
   "name": "python",
   "nbconvert_exporter": "python",
   "pygments_lexer": "ipython3",
   "version": "3.10.9"
  }
 },
 "nbformat": 4,
 "nbformat_minor": 2
}
