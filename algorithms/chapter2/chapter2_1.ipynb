{
 "cells": [
  {
   "cell_type": "code",
   "execution_count": 1,
   "metadata": {},
   "outputs": [],
   "source": [
    "from algorithms.chapter2.insertion_sort import insertion_sort, rev_insertion_sort\n",
    "from algorithms.chapter2.functions import linear_search, binary_sum"
   ]
  },
  {
   "cell_type": "markdown",
   "metadata": {},
   "source": [
    "# Questions from chapter 2"
   ]
  },
  {
   "cell_type": "markdown",
   "metadata": {},
   "source": [
    "2.1-1\n",
    "\n",
    "Using the Figure 2.2 as a model, illustrate an operation of `insertion_sort` in the vector `A = [31, 41, 59, 26, 41, 58]`. "
   ]
  },
  {
   "cell_type": "code",
   "execution_count": 2,
   "metadata": {},
   "outputs": [
    {
     "data": {
      "text/plain": [
       "[26, 31, 41, 41, 58, 59]"
      ]
     },
     "execution_count": 2,
     "metadata": {},
     "output_type": "execute_result"
    }
   ],
   "source": [
    "a = [31, 41, 59, 26, 41, 58]\n",
    "insertion_sort(a)"
   ]
  },
  {
   "cell_type": "markdown",
   "metadata": {},
   "source": [
    "2.1-2\n",
    "\n",
    "Consider the procedure `sum_array` on the facing page. It computes the sum of\n",
    "the `n` numbers in array `A[1:n]`. State a loop invariant for this procedure, and use\n",
    "its initialization, maintenance, and termination properties to show that the `sum_array`\n",
    "procedure returns the sum of the numbers in `A[1:n]`."
   ]
  },
  {
   "cell_type": "markdown",
   "metadata": {},
   "source": [
    "2.1-3\n",
    "\n",
    "Rewrite the `insertion_sort` procedure to sort in a decreasing order, instead of in crescent one. "
   ]
  },
  {
   "cell_type": "code",
   "execution_count": 3,
   "metadata": {},
   "outputs": [
    {
     "data": {
      "text/plain": [
       "[59, 58, 41, 41, 31, 26]"
      ]
     },
     "execution_count": 3,
     "metadata": {},
     "output_type": "execute_result"
    }
   ],
   "source": [
    "a = [31, 41, 59, 26, 41, 58]\n",
    "rev_insertion_sort(a)"
   ]
  },
  {
   "cell_type": "markdown",
   "metadata": {},
   "source": [
    "2.1-4\n",
    "\n",
    "Consider the search problem:\n",
    "\n",
    "**Input**: A sequence of `n` numbers `A = [a_1, a_2, ..., a_n]` and a value `v`.\n",
    "**Output**: An index `i` such as `v = A[i]` or a `None` value, if `v` doesn't appear in `A`.\n",
    "\n",
    "Write a pseudocode for **linear search**, that do an inspection of the sequence, searching for `v`. Using a **loop invariant**, proof that your algorithm is correct. Make sure that your loop invariant satisfies the three needed properties."
   ]
  },
  {
   "cell_type": "markdown",
   "metadata": {},
   "source": [
    "Ans:\n",
    "\n",
    "Input: A sequence of n numbers `A = [a_1, a_2, a_3, ..., a_n]` and a value `v`.\n",
    "\n",
    "Output: An index, such as `v = A[i]` or `NIL`, if v does not appear in `A`."
   ]
  },
  {
   "cell_type": "code",
   "execution_count": 4,
   "metadata": {},
   "outputs": [
    {
     "name": "stdout",
     "output_type": "stream",
     "text": [
      "1\n",
      "None\n"
     ]
    }
   ],
   "source": [
    "a = [31, 41, 59, 26, 41, 58]\n",
    "\n",
    "print(linear_search(a, 41))\n",
    "print(linear_search(a, 100))"
   ]
  },
  {
   "cell_type": "markdown",
   "metadata": {},
   "source": [
    "The loop invariant for this algorithm, can be defined as follows:\n",
    "\n",
    "We can prove that before `i`, with `i = 0, 1, ..., A.length - 1` there is no `v` inside \n",
    "`A[k:i-1]`, with `k < i`, and `v` is in either `A[i]` or `v` doesn't exist in `A`.\n",
    "\n",
    "1 - Initialization: \n",
    "+ If `i = 0`, the subarray `A[k:i-1]` doesn't exist (is empty), thus, there is no `v` inside this one.\n",
    "\n",
    "2 - Maintenance: \n",
    "+ If `i < A.length - 1`, so the algorithm has already passed through `A[0:i-1]` and `v` is not inside this subarray. If `A[i] == v`, so we return i, otherwise the loop continues.\n",
    "+ The next step, j = i + 1, and j < A.length - 1. `v` is not in `A[0:j-1]`. If `A[j] == v`, return `j`, else continues the loop.\n",
    "\n",
    "3 - Termination:\n",
    "+ If `i` has reached the end of the loop, either the `v == A[i] == A[A.length - 1]` or it returns `NIL`."
   ]
  },
  {
   "cell_type": "markdown",
   "metadata": {},
   "source": [
    "2.1-5\n",
    "\n",
    "Consider the problem of add two binary integer numbers of `n` bits, stored in two vectors of `n` elements `A` and `B`. The sum of the two integers must be stored in binaty format in an array of (n + 1) elements `C`. Enunciate formally the problem and write a pseudocode to sum the two numbers."
   ]
  },
  {
   "cell_type": "markdown",
   "metadata": {},
   "source": [
    "Ans:\n",
    "\n",
    "Input: Two arrays `A` and `B` of size `n`, that represent the integer numers `a` and `b`, respectively, in binary form.\n",
    "\n",
    "Output: An array `C` of size `n + 1`, which is defined by the sum of the two arrays `A` and `B`."
   ]
  },
  {
   "cell_type": "code",
   "execution_count": 5,
   "metadata": {},
   "outputs": [
    {
     "data": {
      "text/plain": [
       "[1, 1, 1, 0]"
      ]
     },
     "execution_count": 5,
     "metadata": {},
     "output_type": "execute_result"
    }
   ],
   "source": [
    "binary_a = [1, 1, 1]\n",
    "binary_b = [1, 1, 1]\n",
    "\n",
    "binary_sum(binary_a, binary_b)"
   ]
  },
  {
   "cell_type": "code",
   "execution_count": null,
   "metadata": {},
   "outputs": [],
   "source": []
  }
 ],
 "metadata": {
  "kernelspec": {
   "display_name": ".venv",
   "language": "python",
   "name": "python3"
  },
  "language_info": {
   "codemirror_mode": {
    "name": "ipython",
    "version": 3
   },
   "file_extension": ".py",
   "mimetype": "text/x-python",
   "name": "python",
   "nbconvert_exporter": "python",
   "pygments_lexer": "ipython3",
   "version": "3.10.9"
  },
  "orig_nbformat": 4
 },
 "nbformat": 4,
 "nbformat_minor": 2
}
